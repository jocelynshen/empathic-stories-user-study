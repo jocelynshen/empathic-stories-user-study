{
 "cells": [
  {
   "cell_type": "code",
   "execution_count": 2,
   "id": "82da297c",
   "metadata": {},
   "outputs": [],
   "source": [
    "import sys\n",
    "from flask import Flask\n",
    "from flask import abort, request, jsonify\n",
    "import json\n",
    "# import tensorflow as tf\n",
    "# gpus = tf.config.experimental.list_physical_devices('GPU')\n",
    "# for gpu in gpus:\n",
    "#     tf.config.experimental.set_memory_growth(gpu, True)\n",
    "from flask import Flask\n",
    "from flask_cors import CORS\n",
    "import logging\n",
    "\n",
    "from multiprocessing import Lock\n",
    "\n",
    "sys.path.append(\"../\")\n",
    "lock = Lock()\n",
    "app = Flask(__name__)\n",
    "app.config['UPLOAD_FOLDER'] = \"data/\"\n",
    "app.config['MAX_CONTENT_LENGTH'] = 10000 * 1024 * 1024\n",
    "CORS(app)\n",
    "logging.getLogger('flask_cors').level = logging.DEBUG\n",
    "\n",
    "import firebase_admin\n",
    "from firebase_admin import credentials, firestore, initialize_app, db\n",
    "\n",
    "c = firebase_admin.credentials.Certificate(\"./credentials.json\")\n",
    "default_app = firebase_admin.initialize_app(c, {\n",
    "    'databaseURL':\"https://empathic-stories-default-rtdb.firebaseio.com/\"\n",
    "    })"
   ]
  },
  {
   "cell_type": "code",
   "execution_count": 3,
   "id": "a208a145",
   "metadata": {},
   "outputs": [
    {
     "name": "stdout",
     "output_type": "stream",
     "text": [
      "<firebase_admin.db.Reference object at 0x00000147C9E1FBE0>\n"
     ]
    }
   ],
   "source": [
    "print(db.reference('p001').child(\"s001\"))"
   ]
  },
  {
   "cell_type": "code",
   "execution_count": 4,
   "id": "f10531c8",
   "metadata": {},
   "outputs": [
    {
     "name": "stdout",
     "output_type": "stream",
     "text": [
      "{'age': 10, 'empathy-level': 1, 'gender': 'female', 'race': 'race or ethnicity'}\n"
     ]
    }
   ],
   "source": [
    "ref = db.reference('p001/s001/demographic')\n",
    "current_ids = ref.get()\n",
    "# ref.update({ip:ip_count})\n",
    "print(current_ids)"
   ]
  },
  {
   "cell_type": "code",
   "execution_count": 7,
   "id": "c25328cf",
   "metadata": {},
   "outputs": [],
   "source": [
    "ref = db.reference('p001/')\n",
    "ref.update({\"s002\":0})"
   ]
  },
  {
   "cell_type": "code",
   "execution_count": 41,
   "id": "5d3f37f1",
   "metadata": {},
   "outputs": [
    {
     "name": "stdout",
     "output_type": "stream",
     "text": [
      "3rd\n"
     ]
    }
   ],
   "source": [
    "participantID = 'p002'\n",
    "data = {\"age\": 10, \"name\": \"taz\"}\n",
    "ref = db.reference(participantID)\n",
    "currentSession = db.reference(participantID + \"/currentSession\").get()\n",
    "if currentSession is None:\n",
    "    #ref.child('currentSession').set(1)\n",
    "    session1 = db.reference(participantID +'/s001')\n",
    "    session1.child(\"prompt\").set(\"here sotre prompt1\")\n",
    "    session1.child(\"demographic\").set(data)\n",
    "    db.reference(participantID + \"/currentSession\").set(2)\n",
    "    print(\"1st\")\n",
    "elif currentSession == 2:\n",
    "    #ref.child('currentSession').set(2)\n",
    "    session2 = db.reference(participantID +'/s002')\n",
    "    session2.child(\"prompt\").set(\"here sotre prompt2\")\n",
    "    session2.child(\"demographic\").set(data)\n",
    "    db.reference(participantID + \"/currentSession\").set(3)\n",
    "    print(\"2nd\")\n",
    "elif currentSession == 3:\n",
    "    #ref.child('currentSession').set(3)\n",
    "    session3 = db.reference(participantID +'/s003')\n",
    "    session3.child(\"prompt\").set(\"here sotre prompt3\")\n",
    "    session3.child(\"demographic\").set(data)\n",
    "    print(\"3rd\")\n",
    "    \n",
    "    \n"
   ]
  },
  {
   "cell_type": "code",
   "execution_count": null,
   "id": "cada91fd",
   "metadata": {},
   "outputs": [],
   "source": []
  },
  {
   "cell_type": "code",
   "execution_count": null,
   "id": "ac2084ac",
   "metadata": {},
   "outputs": [],
   "source": []
  }
 ],
 "metadata": {
  "kernelspec": {
   "display_name": "Python 3 (ipykernel)",
   "language": "python",
   "name": "python3"
  },
  "language_info": {
   "codemirror_mode": {
    "name": "ipython",
    "version": 3
   },
   "file_extension": ".py",
   "mimetype": "text/x-python",
   "name": "python",
   "nbconvert_exporter": "python",
   "pygments_lexer": "ipython3",
   "version": "3.10.6"
  }
 },
 "nbformat": 4,
 "nbformat_minor": 5
}
