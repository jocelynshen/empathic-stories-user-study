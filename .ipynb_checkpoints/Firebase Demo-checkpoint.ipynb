{
 "cells": [
  {
   "cell_type": "code",
   "execution_count": 1,
   "id": "82da297c",
   "metadata": {},
   "outputs": [],
   "source": [
    "import sys\n",
    "from flask import Flask\n",
    "from flask import abort, request, jsonify\n",
    "import json\n",
    "# import tensorflow as tf\n",
    "# gpus = tf.config.experimental.list_physical_devices('GPU')\n",
    "# for gpu in gpus:\n",
    "#     tf.config.experimental.set_memory_growth(gpu, True)\n",
    "from flask import Flask\n",
    "from flask_cors import CORS\n",
    "import logging\n",
    "\n",
    "from multiprocessing import Lock\n",
    "\n",
    "sys.path.append(\"../\")\n",
    "lock = Lock()\n",
    "app = Flask(__name__)\n",
    "app.config['UPLOAD_FOLDER'] = \"data/\"\n",
    "app.config['MAX_CONTENT_LENGTH'] = 10000 * 1024 * 1024\n",
    "CORS(app)\n",
    "logging.getLogger('flask_cors').level = logging.DEBUG\n",
    "\n",
    "import firebase_admin\n",
    "from firebase_admin import credentials, firestore, initialize_app, db\n",
    "\n",
    "c = firebase_admin.credentials.Certificate(\"./credentials.json\")\n",
    "default_app = firebase_admin.initialize_app(c, {\n",
    "    'databaseURL':\"https://empathic-stories-default-rtdb.firebaseio.com/\"\n",
    "    })"
   ]
  },
  {
   "cell_type": "code",
   "execution_count": 16,
   "id": "a208a145",
   "metadata": {},
   "outputs": [
    {
     "ename": "AttributeError",
     "evalue": "module 'firebase_admin.db' has no attribute 'child'",
     "output_type": "error",
     "traceback": [
      "\u001b[0;31m---------------------------------------------------------------------------\u001b[0m",
      "\u001b[0;31mAttributeError\u001b[0m                            Traceback (most recent call last)",
      "\u001b[0;32m/var/folders/s1/s77r8zxx4k5bcw2tkl2m27qm0000gn/T/ipykernel_16239/662365571.py\u001b[0m in \u001b[0;36m<module>\u001b[0;34m\u001b[0m\n\u001b[0;32m----> 1\u001b[0;31m \u001b[0mprint\u001b[0m\u001b[0;34m(\u001b[0m\u001b[0mdb\u001b[0m\u001b[0;34m.\u001b[0m\u001b[0mchild\u001b[0m\u001b[0;34m(\u001b[0m\u001b[0;34m\"p001\"\u001b[0m\u001b[0;34m)\u001b[0m\u001b[0;34m)\u001b[0m\u001b[0;34m\u001b[0m\u001b[0;34m\u001b[0m\u001b[0m\n\u001b[0m",
      "\u001b[0;31mAttributeError\u001b[0m: module 'firebase_admin.db' has no attribute 'child'"
     ]
    }
   ],
   "source": [
    "print(db.child(\"p001\"))"
   ]
  },
  {
   "cell_type": "code",
   "execution_count": 21,
   "id": "f10531c8",
   "metadata": {},
   "outputs": [
    {
     "name": "stdout",
     "output_type": "stream",
     "text": [
      "{'demographic': {'age': 10, 'gender': 'female'}, 'mystory': 'my life is great', 'prompt': 'tell me about your life', 'story1': {'story': 'this is the actual story retrieved', 'surveyq1': 1}, 'story2': 'retrieved by GPT', 'story3': 'retrieved using naive retrieval'}\n"
     ]
    }
   ],
   "source": [
    "ref = db.reference('p001/s001')\n",
    "current_ids = ref.get()\n",
    "# ref.update({ip:ip_count})\n",
    "print(current_ids)"
   ]
  },
  {
   "cell_type": "code",
   "execution_count": 22,
   "id": "c25328cf",
   "metadata": {},
   "outputs": [],
   "source": [
    "ref = db.reference('p001/')\n",
    "ref.update({\"s002\":0})"
   ]
  }
 ],
 "metadata": {
  "kernelspec": {
   "display_name": "social-connection",
   "language": "python",
   "name": "social-connection"
  },
  "language_info": {
   "codemirror_mode": {
    "name": "ipython",
    "version": 3
   },
   "file_extension": ".py",
   "mimetype": "text/x-python",
   "name": "python",
   "nbconvert_exporter": "python",
   "pygments_lexer": "ipython3",
   "version": "3.9.7"
  }
 },
 "nbformat": 4,
 "nbformat_minor": 5
}
