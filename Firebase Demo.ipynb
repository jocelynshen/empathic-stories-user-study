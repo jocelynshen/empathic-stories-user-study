{
 "cells": [
  {
   "cell_type": "code",
   "execution_count": 5,
   "id": "82da297c",
   "metadata": {},
   "outputs": [
    {
     "ename": "ValueError",
     "evalue": "The default Firebase app already exists. This means you called initialize_app() more than once without providing an app name as the second argument. In most cases you only need to call initialize_app() once. But if you do want to initialize multiple apps, pass a second argument to initialize_app() to give each app a unique name.",
     "output_type": "error",
     "traceback": [
      "\u001b[1;31m---------------------------------------------------------------------------\u001b[0m",
      "\u001b[1;31mValueError\u001b[0m                                Traceback (most recent call last)",
      "Cell \u001b[1;32mIn[5], line 27\u001b[0m\n\u001b[0;32m     24\u001b[0m \u001b[38;5;28;01mfrom\u001b[39;00m \u001b[38;5;21;01mfirebase_admin\u001b[39;00m \u001b[38;5;28;01mimport\u001b[39;00m credentials, firestore, initialize_app, db\n\u001b[0;32m     26\u001b[0m c \u001b[38;5;241m=\u001b[39m firebase_admin\u001b[38;5;241m.\u001b[39mcredentials\u001b[38;5;241m.\u001b[39mCertificate(\u001b[38;5;124m\"\u001b[39m\u001b[38;5;124m./credentials.json\u001b[39m\u001b[38;5;124m\"\u001b[39m)\n\u001b[1;32m---> 27\u001b[0m default_app \u001b[38;5;241m=\u001b[39m \u001b[43mfirebase_admin\u001b[49m\u001b[38;5;241;43m.\u001b[39;49m\u001b[43minitialize_app\u001b[49m\u001b[43m(\u001b[49m\u001b[43mc\u001b[49m\u001b[43m,\u001b[49m\u001b[43m \u001b[49m\u001b[43m{\u001b[49m\n\u001b[0;32m     28\u001b[0m \u001b[43m    \u001b[49m\u001b[38;5;124;43m'\u001b[39;49m\u001b[38;5;124;43mdatabaseURL\u001b[39;49m\u001b[38;5;124;43m'\u001b[39;49m\u001b[43m:\u001b[49m\u001b[38;5;124;43m\"\u001b[39;49m\u001b[38;5;124;43mhttps://empathic-stories-default-rtdb.firebaseio.com/\u001b[39;49m\u001b[38;5;124;43m\"\u001b[39;49m\n\u001b[0;32m     29\u001b[0m \u001b[43m    \u001b[49m\u001b[43m}\u001b[49m\u001b[43m)\u001b[49m\n",
      "File \u001b[1;32m~\\AppData\\Roaming\\Python\\Python310\\site-packages\\firebase_admin\\__init__.py:71\u001b[0m, in \u001b[0;36minitialize_app\u001b[1;34m(credential, options, name)\u001b[0m\n\u001b[0;32m     68\u001b[0m         \u001b[38;5;28;01mreturn\u001b[39;00m app\n\u001b[0;32m     70\u001b[0m \u001b[38;5;28;01mif\u001b[39;00m name \u001b[38;5;241m==\u001b[39m _DEFAULT_APP_NAME:\n\u001b[1;32m---> 71\u001b[0m     \u001b[38;5;28;01mraise\u001b[39;00m \u001b[38;5;167;01mValueError\u001b[39;00m((\n\u001b[0;32m     72\u001b[0m         \u001b[38;5;124m'\u001b[39m\u001b[38;5;124mThe default Firebase app already exists. This means you called \u001b[39m\u001b[38;5;124m'\u001b[39m\n\u001b[0;32m     73\u001b[0m         \u001b[38;5;124m'\u001b[39m\u001b[38;5;124minitialize_app() more than once without providing an app name as \u001b[39m\u001b[38;5;124m'\u001b[39m\n\u001b[0;32m     74\u001b[0m         \u001b[38;5;124m'\u001b[39m\u001b[38;5;124mthe second argument. In most cases you only need to call \u001b[39m\u001b[38;5;124m'\u001b[39m\n\u001b[0;32m     75\u001b[0m         \u001b[38;5;124m'\u001b[39m\u001b[38;5;124minitialize_app() once. But if you do want to initialize multiple \u001b[39m\u001b[38;5;124m'\u001b[39m\n\u001b[0;32m     76\u001b[0m         \u001b[38;5;124m'\u001b[39m\u001b[38;5;124mapps, pass a second argument to initialize_app() to give each app \u001b[39m\u001b[38;5;124m'\u001b[39m\n\u001b[0;32m     77\u001b[0m         \u001b[38;5;124m'\u001b[39m\u001b[38;5;124ma unique name.\u001b[39m\u001b[38;5;124m'\u001b[39m))\n\u001b[0;32m     79\u001b[0m \u001b[38;5;28;01mraise\u001b[39;00m \u001b[38;5;167;01mValueError\u001b[39;00m((\n\u001b[0;32m     80\u001b[0m     \u001b[38;5;124m'\u001b[39m\u001b[38;5;124mFirebase app named \u001b[39m\u001b[38;5;124m\"\u001b[39m\u001b[38;5;132;01m{0}\u001b[39;00m\u001b[38;5;124m\"\u001b[39m\u001b[38;5;124m already exists. This means you called \u001b[39m\u001b[38;5;124m'\u001b[39m\n\u001b[0;32m     81\u001b[0m     \u001b[38;5;124m'\u001b[39m\u001b[38;5;124minitialize_app() more than once with the same app name as the \u001b[39m\u001b[38;5;124m'\u001b[39m\n\u001b[0;32m     82\u001b[0m     \u001b[38;5;124m'\u001b[39m\u001b[38;5;124msecond argument. Make sure you provide a unique name every time \u001b[39m\u001b[38;5;124m'\u001b[39m\n\u001b[0;32m     83\u001b[0m     \u001b[38;5;124m'\u001b[39m\u001b[38;5;124myou call initialize_app().\u001b[39m\u001b[38;5;124m'\u001b[39m)\u001b[38;5;241m.\u001b[39mformat(name))\n",
      "\u001b[1;31mValueError\u001b[0m: The default Firebase app already exists. This means you called initialize_app() more than once without providing an app name as the second argument. In most cases you only need to call initialize_app() once. But if you do want to initialize multiple apps, pass a second argument to initialize_app() to give each app a unique name."
     ]
    }
   ],
   "source": [
    "import sys\n",
    "from flask import Flask\n",
    "from flask import abort, request, jsonify\n",
    "import json\n",
    "# import tensorflow as tf\n",
    "# gpus = tf.config.experimental.list_physical_devices('GPU')\n",
    "# for gpu in gpus:\n",
    "#     tf.config.experimental.set_memory_growth(gpu, True)\n",
    "from flask import Flask\n",
    "from flask_cors import CORS\n",
    "import logging\n",
    "\n",
    "from multiprocessing import Lock\n",
    "\n",
    "sys.path.append(\"../\")\n",
    "lock = Lock()\n",
    "app = Flask(__name__)\n",
    "app.config['UPLOAD_FOLDER'] = \"data/\"\n",
    "app.config['MAX_CONTENT_LENGTH'] = 10000 * 1024 * 1024\n",
    "CORS(app)\n",
    "logging.getLogger('flask_cors').level = logging.DEBUG\n",
    "\n",
    "import firebase_admin\n",
    "from firebase_admin import credentials, firestore, initialize_app, db\n",
    "\n",
    "c = firebase_admin.credentials.Certificate(\"./credentials.json\")\n",
    "default_app = firebase_admin.initialize_app(c, {\n",
    "    'databaseURL':\"https://empathic-stories-default-rtdb.firebaseio.com/\"\n",
    "    })"
   ]
  },
  {
   "cell_type": "code",
   "execution_count": 8,
   "id": "a208a145",
   "metadata": {},
   "outputs": [
    {
     "name": "stdout",
     "output_type": "stream",
     "text": [
      "<firebase_admin.db.Reference object at 0x00000215621F6A70>\n"
     ]
    }
   ],
   "source": [
    "print(db.reference('p001').child(\"s001\"))"
   ]
  },
  {
   "cell_type": "code",
   "execution_count": 10,
   "id": "f10531c8",
   "metadata": {},
   "outputs": [
    {
     "name": "stdout",
     "output_type": "stream",
     "text": [
      "{'demographic': {'age': 10, 'gender': 'female', 'race': 'race or ethnicity'}, 'feedback': 'optional feedback', 'mystory': 'my life is great', 'mystoryQuestions': {'high-level-lesson': 'high level lesson of my story', 'main-event': 'main event of my story', 'narrator-emtions': 'narrator emotions'}, 'mystoryTopic': 'Family', 'prompt': 'prompt1-topic', 'reflection': {'arousal': 1, 'valence': 1}, 'story1': {'story': 'this is the actual story retrieved', 'surveyq1': 1, 'surveyq10': 1, 'surveyq11': 1, 'surveyq12': 1, 'surveyq2': 1, 'surveyq3': 1, 'surveyq4': 1, 'surveyq5': 1, 'surveyq6': 1, 'surveyq7': 1, 'surveyq8': 1, 'surveyq9': 1}, 'story2': {'story': 'story retrieved by GPT', 'surveyq1': 1, 'surveyq10': 1, 'surveyq11': 1, 'surveyq12': 1, 'surveyq2': 1, 'surveyq3': 1, 'surveyq4': 1, 'surveyq5': 1, 'surveyq6': 1, 'surveyq7': 1, 'surveyq8': 1, 'surveyq9': 1}, 'story3': {'story': 'retrieved using naive retrieval', 'surveyq1': 1, 'surveyq10': 1, 'surveyq11': 1, 'surveyq12': 1, 'surveyq2': 1, 'surveyq3': 1, 'surveyq4': 1, 'surveyq5': 1, 'surveyq6': 1, 'surveyq7': 1, 'surveyq8': 1, 'surveyq9': 1}}\n"
     ]
    }
   ],
   "source": [
    "ref = db.reference('p001/s001')\n",
    "current_ids = ref.get()\n",
    "# ref.update({ip:ip_count})\n",
    "print(current_ids)"
   ]
  },
  {
   "cell_type": "code",
   "execution_count": 7,
   "id": "c25328cf",
   "metadata": {},
   "outputs": [],
   "source": [
    "ref = db.reference('p001/')\n",
    "ref.update({\"s002\":0})"
   ]
  },
  {
   "cell_type": "code",
   "execution_count": null,
   "id": "5d3f37f1",
   "metadata": {},
   "outputs": [],
   "source": []
  }
 ],
 "metadata": {
  "kernelspec": {
   "display_name": "Python 3 (ipykernel)",
   "language": "python",
   "name": "python3"
  },
  "language_info": {
   "codemirror_mode": {
    "name": "ipython",
    "version": 3
   },
   "file_extension": ".py",
   "mimetype": "text/x-python",
   "name": "python",
   "nbconvert_exporter": "python",
   "pygments_lexer": "ipython3",
   "version": "3.10.6"
  }
 },
 "nbformat": 4,
 "nbformat_minor": 5
}
