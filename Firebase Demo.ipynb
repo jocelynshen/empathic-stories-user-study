{
 "cells": [
  {
   "cell_type": "code",
   "execution_count": 1,
   "id": "82da297c",
   "metadata": {},
   "outputs": [],
   "source": [
    "import sys\n",
    "import random\n",
    "from flask import Flask\n",
    "from flask import abort, request, jsonify\n",
    "import json\n",
    "# import tensorflow as tf\n",
    "# gpus = tf.config.experimental.list_physical_devices('GPU')\n",
    "# for gpu in gpus:\n",
    "#     tf.config.experimental.set_memory_growth(gpu, True)\n",
    "from flask import Flask\n",
    "from flask_cors import CORS\n",
    "import logging\n",
    "\n",
    "from multiprocessing import Lock\n",
    "\n",
    "sys.path.append(\"../\")\n",
    "lock = Lock()\n",
    "app = Flask(__name__)\n",
    "app.config['UPLOAD_FOLDER'] = \"data/\"\n",
    "app.config['MAX_CONTENT_LENGTH'] = 10000 * 1024 * 1024\n",
    "CORS(app)\n",
    "logging.getLogger('flask_cors').level = logging.DEBUG\n",
    "\n",
    "import firebase_admin\n",
    "from firebase_admin import credentials, firestore, initialize_app, db\n",
    "\n",
    "c = firebase_admin.credentials.Certificate(\"./credentials.json\")\n",
    "default_app = firebase_admin.initialize_app(c, {\n",
    "    'databaseURL':\"https://empathic-stories-default-rtdb.firebaseio.com/\"\n",
    "    })"
   ]
  },
  {
   "cell_type": "code",
   "execution_count": 21,
   "id": "a208a145",
   "metadata": {},
   "outputs": [],
   "source": [
    "participantIDInput = 'p005'\n",
    "ref = db.reference(participantIDInput)\n",
    "currentSession = db.reference(participantIDInput + \"/currentSession\").get()\n",
    "if currentSession is None:\n",
    "    db.reference(participantIDInput + \"/currentSession\").set(2)\n",
    "elif currentSession == 2:\n",
    "    db.reference(participantIDInput + \"/currentSession\").set(3)\n",
    "elif currentSession == 3:\n",
    "    print('session 3')\n",
    "  "
   ]
  },
  {
   "cell_type": "code",
   "execution_count": 4,
   "id": "f10531c8",
   "metadata": {},
   "outputs": [
    {
     "name": "stdout",
     "output_type": "stream",
     "text": [
      "{'age': 10, 'empathy-level': 1, 'gender': 'female', 'race': 'race or ethnicity'}\n"
     ]
    }
   ],
   "source": [
    "ref = db.reference('p001/s001/demographic')\n",
    "current_ids = ref.get()\n",
    "# ref.update({ip:ip_count})\n",
    "print(current_ids)"
   ]
  },
  {
   "cell_type": "code",
   "execution_count": 7,
   "id": "c25328cf",
   "metadata": {},
   "outputs": [],
   "source": [
    "ref = db.reference('p001/')\n",
    "ref.update({\"s002\":0})"
   ]
  },
  {
   "cell_type": "code",
   "execution_count": 6,
   "id": "5d3f37f1",
   "metadata": {},
   "outputs": [
    {
     "name": "stdout",
     "output_type": "stream",
     "text": [
      "3rd session\n",
      "{'prompt': 'prompt3', 'story1': 'model1story8', 'story2': 'model2story4', 'story3': 'model3story3', 'story4': 'model4story1'}\n"
     ]
    }
   ],
   "source": [
    "participantID = 'p000'\n",
    "model1 = [\"model1story1\", \"model1story2\", \"model1story3\", \"model1story4\",\"model1story5\", \"model1story6\", \"model1story7\", \"model1story8\",\"model1story9\"]\n",
    "model2 = [\"model2story1\", \"model2story2\", \"model2story3\", \"model2story4\",\"model2story5\", \"model2story6\", \"model2story7\", \"model2story8\",\"model2story9\"]\n",
    "model3 = [\"model3story1\", \"model3story2\", \"model3story3\", \"model3story4\",\"model3story5\", \"model3story6\", \"model3story7\", \"model3story8\",\"model3story9\"]\n",
    "model4 = [\"model4story1\", \"model4story2\", \"model4story3\", \"model4story4\",\"model4story5\", \"model4story6\", \"model4story7\", \"model4story8\",\"model4story9\"]\n",
    "prompt1 = 'prompt1'\n",
    "prompt2 = 'prompt2'\n",
    "prompt3 = 'prompt3'\n",
    "prompt = ''\n",
    "story1 = ''\n",
    "story2 = ''\n",
    "story3 = ''\n",
    "story4 = ''\n",
    "# prepare session 1\n",
    "story1session1random = random.choice(model1)\n",
    "story2session1random = random.choice(model2)\n",
    "story3session1random = random.choice(model3)\n",
    "story4session1random = random.choice(model4)\n",
    "# prepare session 2\n",
    "exclude_model1_index = model1.index(story1session1random)\n",
    "exclude_model2_index = model2.index(story2session1random)\n",
    "exclude_model3_index = model3.index(story3session1random)\n",
    "exclude_model4_index = model4.index(story4session1random)\n",
    "model1Session2 = model1[:exclude_model1_index] + model1[exclude_model1_index + 1:]\n",
    "model2Session2 = model2[:exclude_model2_index] + model2[exclude_model2_index + 1:]\n",
    "model3Session2 = model3[:exclude_model3_index] + model3[exclude_model3_index + 1:]\n",
    "model4Session2 = model4[:exclude_model4_index] + model3[exclude_model4_index + 1:]\n",
    "story1session2random = random.choice(model1Session2)\n",
    "story2session2random = random.choice(model2Session2)\n",
    "story3session2random = random.choice(model3Session2)\n",
    "story4session2random = random.choice(model4Session2)\n",
    "# prepare session 3\n",
    "exclude_model1Session2_index = model1Session2.index(story1session2random)\n",
    "exclude_model2Session2_index = model2Session2.index(story2session2random)\n",
    "exclude_model3Session2_index = model3Session2.index(story3session2random)\n",
    "exclude_model4Session2_index = model4Session2.index(story4session2random)\n",
    "model1Session3 = model1Session2[:exclude_model1Session2_index] + model1Session2[exclude_model1Session2_index + 1:]\n",
    "model2Session3 = model2Session2[:exclude_model2Session2_index] + model2Session2[exclude_model2Session2_index + 1:]\n",
    "model3Session3 = model3Session2[:exclude_model3Session2_index] + model3Session2[exclude_model3Session2_index + 1:]\n",
    "model4Session3 = model4Session2[:exclude_model4Session2_index] + model4Session2[exclude_model4Session2_index + 1:]\n",
    "story1session3random = random.choice(model1Session3)\n",
    "story2session3random = random.choice(model2Session3)\n",
    "story3session3random = random.choice(model3Session3)\n",
    "story4session3random = random.choice(model4Session3)\n",
    "##########################################################################\n",
    "#participantID = request.json['participantID']\n",
    "ref = db.reference(participantID)\n",
    "currentSession = db.reference(participantID + \"/currentSession\").get()\n",
    "if currentSession is None:\n",
    "    prompt = prompt1\n",
    "    story1 = story1session1random\n",
    "    story2 = story2session1random\n",
    "    story3 = story3session1random\n",
    "    story4 = story4session1random\n",
    "    print('1st session')\n",
    "elif currentSession == 2:\n",
    "    prompt = prompt2\n",
    "    story1 = story1session2random\n",
    "    story2 = story2session2random\n",
    "    story3 = story3session2random\n",
    "    story4 = story4session2random\n",
    "    print('2nd session')\n",
    "elif currentSession == 3:\n",
    "    prompt = prompt3\n",
    "    story1 = story1session3random\n",
    "    story2 = story2session3random\n",
    "    story3 = story3session3random\n",
    "    story4 = story4session3random\n",
    "    print('3rd session')\n",
    "\n",
    "dict = {'prompt': prompt, 'story1': story1, 'story2': story2, 'story3': story3, 'story4':story4}\n",
    "\n",
    "# \"\"\"Get initial writing prompt for user + retrieve 3 stories from 3 models + save to firebase\"\"\"\n",
    "# randomly select story FROM stories that haven't been seen before (store it in firebase)\n",
    "\n",
    "print (dict)\n",
    "    \n"
   ]
  },
  {
   "cell_type": "code",
   "execution_count": 7,
   "id": "a77d9398",
   "metadata": {},
   "outputs": [],
   "source": [
    "user_id = \"1\"\n",
    "ref = db.reference('user_id')\n",
    "ref.set(user_id)"
   ]
  },
  {
   "cell_type": "code",
   "execution_count": 6,
   "id": "581d505e",
   "metadata": {},
   "outputs": [
    {
     "name": "stdout",
     "output_type": "stream",
     "text": [
      "user_id\n"
     ]
    }
   ],
   "source": [
    "id = ref.get()\n",
    "print(id)"
   ]
  },
  {
   "cell_type": "code",
   "execution_count": null,
   "id": "07ebb7a7",
   "metadata": {},
   "outputs": [],
   "source": []
  }
 ],
 "metadata": {
  "kernelspec": {
   "display_name": "Python 3 (ipykernel)",
   "language": "python",
   "name": "python3"
  },
  "language_info": {
   "codemirror_mode": {
    "name": "ipython",
    "version": 3
   },
   "file_extension": ".py",
   "mimetype": "text/x-python",
   "name": "python",
   "nbconvert_exporter": "python",
   "pygments_lexer": "ipython3",
   "version": "3.10.6"
  }
 },
 "nbformat": 4,
 "nbformat_minor": 5
}
